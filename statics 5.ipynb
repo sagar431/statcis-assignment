{
 "cells": [
  {
   "cell_type": "markdown",
   "id": "4e1fa004",
   "metadata": {},
   "source": [
    "1. Give an example of 3 events A, B, C which are pairwise independent but not independent.\n",
    "Hint: find an example where whether C occurs is completely determined if we know whether\n",
    "A occurred and whether B occurred, but completely undetermined if we know only one of\n",
    "these things.\n",
    "2. A bag contains one marble which is either green or blue, with equal probabilities. A green\n",
    "marble is put in the bag (so there are 2 marbles now), and then a random marble is taken\n",
    "out. The marble taken out is green. What is the probability that the remaining marble is also\n",
    "green?"
   ]
  },
  {
   "cell_type": "markdown",
   "id": "bc288194",
   "metadata": {},
   "source": [
    "# answer"
   ]
  },
  {
   "cell_type": "markdown",
   "id": "fcfbc1f4",
   "metadata": {},
   "source": [
    "1. Let's consider an example using a fair coin. Define the events A, B, and C as follows:\n",
    "\n",
    "A: The first toss is a head.\n",
    "B: The second toss is a head.\n",
    "C: The number of heads in the two tosses is even.\n",
    "\n",
    "Now, let's examine the pairwise independence:\n",
    "\n",
    "P(A ∩ B) = P(A) * P(B) = 0.5 * 0.5 = 0.25\n",
    "P(A ∩ C) = P(A) * P(C) = 0.5 * 0.5 = 0.25\n",
    "P(B ∩ C) = P(B) * P(C) = 0.5 * 0.5 = 0.25\n",
    "\n",
    "The events are pairwise independent. However, when we consider all three events, they are not independent:\n",
    "\n",
    "P(A ∩ B ∩ C) = 0\n",
    "\n",
    "This is because if A and B both occur (i.e., both tosses are heads), then there are 2 heads, which contradicts event C (an even number of heads). \n",
    "\n",
    "On the other hand, if we assume independence, we would have:\n",
    "\n",
    "P(A ∩ B ∩ C) = P(A) * P(B) * P(C) = 0.5 * 0.5 * 0.5 = 0.125\n",
    "\n",
    "Since these values are not equal, events A, B, and C are not independent.\n",
    "\n",
    "2. In this problem, there are two possibilities for the initial marble: green (G) or blue (B), each with a probability of 0.5. A green marble is added, and then one marble is removed, which turns out to be green. We want to find the probability that the remaining marble is green.\n",
    "\n",
    "We can use conditional probability to solve this. Let G1 be the event that the first marble is green, G2 be the event that the second marble is green (which is certain in this case), and R be the event that a green marble is removed.\n",
    "\n",
    "We want to find P(G1 | R), the probability that the first marble is green given that a green marble is removed.\n",
    "\n",
    "Using Bayes' theorem:\n",
    "\n",
    "P(G1 | R) = P(R | G1) * P(G1) / P(R)\n",
    "\n",
    "We know P(G1) = 0.5. Now we need to find P(R | G1) and P(R).\n",
    "\n",
    "If G1 occurs (i.e., the first marble is green), then both marbles are green, so it is certain that we remove a green marble:\n",
    "\n",
    "P(R | G1) = 1\n",
    "\n",
    "To find P(R), we consider both possibilities for the first marble:\n",
    "\n",
    "P(R) = P(R | G1) * P(G1) + P(R | G1ᶜ) * P(G1ᶜ)\n",
    "\n",
    "If the first marble is green (G1), there are two green marbles, and the probability of removing a green marble is 1:\n",
    "\n",
    "P(R | G1) * P(G1) = 1 * 0.5 = 0.5\n",
    "\n",
    "If the first marble is not green (G1ᶜ), there is one green marble and one blue marble, and the probability of removing a green marble is 0.5:\n",
    "\n",
    "P(R | G1ᶜ) * P(G1ᶜ) = 0.5 * 0.5 = 0.25\n",
    "\n",
    "Thus, P(R) = 0.5 + 0.25 = 0.75\n",
    "\n",
    "Now we can use Bayes' theorem to find P(G1 | R):\n",
    "\n",
    "P(G1 | R) = P(R | G1) *"
   ]
  },
  {
   "cell_type": "code",
   "execution_count": null,
   "id": "0a49a178",
   "metadata": {},
   "outputs": [],
   "source": []
  }
 ],
 "metadata": {
  "kernelspec": {
   "display_name": "Python 3 (ipykernel)",
   "language": "python",
   "name": "python3"
  },
  "language_info": {
   "codemirror_mode": {
    "name": "ipython",
    "version": 3
   },
   "file_extension": ".py",
   "mimetype": "text/x-python",
   "name": "python",
   "nbconvert_exporter": "python",
   "pygments_lexer": "ipython3",
   "version": "3.9.12"
  }
 },
 "nbformat": 4,
 "nbformat_minor": 5
}
