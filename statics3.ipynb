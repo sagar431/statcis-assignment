{
 "cells": [
  {
   "cell_type": "markdown",
   "id": "b28b8b66",
   "metadata": {},
   "source": [
    "1. For a group of 7 people, find the probability that all 4 seasons (winter, spring, summer, fall)\n",
    "occur at least once each among their birthdays, assuming that all seasons are equally likely.\n",
    "2. Alice attends a small college in which each class meets only once a week. She is deciding\n",
    "between 30 non-overlapping classes. There are 6 classes to choose from for each day of the\n",
    "week, Monday through Friday. Trusting in the benevolence of randomness, Alice decides to\n",
    "register for 7 randomly selected classes out of the 30, with all choices equally likely. What is\n",
    "the probability that she will have classes every day, Monday through Friday?"
   ]
  },
  {
   "cell_type": "markdown",
   "id": "0133f73c",
   "metadata": {},
   "source": [
    "# answer"
   ]
  },
  {
   "cell_type": "markdown",
   "id": "97ed6016",
   "metadata": {},
   "source": [
    "1. To find the probability that all 4 seasons occur at least once each among the 7 people's birthdays, we can use the principle of inclusion-exclusion.\n",
    "\n",
    "There are 4^7 ways to distribute the 7 birthdays among the 4 seasons. To find the probability, we can count the complementary event (i.e., at least one season is not represented) and subtract it from 1.\n",
    "\n",
    "Let A_i be the event that season i is not represented.\n",
    "\n",
    "P(A_1) = P(A_2) = P(A_3) = P(A_4) = (3/4)^7 (since there are 3 other seasons that the birthdays can be in)\n",
    "\n",
    "Using the principle of inclusion-exclusion, we have:\n",
    "\n",
    "P(at least one season not represented) = P(A_1) + P(A_2) + P(A_3) + P(A_4) - P(A_1 ∩ A_2) - P(A_1 ∩ A_3) - P(A_1 ∩ A_4) - P(A_2 ∩ A_3) - P(A_2 ∩ A_4) - P(A_3 ∩ A_4) + P(A_1 ∩ A_2 ∩ A_3) + P(A_1 ∩ A_2 ∩ A_4) + P(A_1 ∩ A_3 ∩ A_4) + P(A_2 ∩ A_3 ∩ A_4) - P(A_1 ∩ A_2 ∩ A_3 ∩ A_4)\n",
    "\n",
    "P(at least one season not represented) = 4*(3/4)^7 - 6*(2/4)^7 + 4*(1/4)^7\n",
    "\n",
    "Now, the probability that all seasons are represented is the complement of this:\n",
    "\n",
    "P(all seasons represented) = 1 - P(at least one season not represented)\n",
    "P(all seasons represented) = 1 - [4*(3/4)^7 - 6*(2/4)^7 + 4*(1/4)^7]\n",
    "\n",
    "2. Alice has 30 classes to choose from and will register for 7 of them. There are C(30, 7) ways to choose these 7 classes, where C(n, k) denotes the number of combinations of n items taken k at a time.\n",
    "\n",
    "We want to find the probability that Alice has classes every day, Monday through Friday. To do this, we can use the principle of stars and bars. Imagine that we have 7 \"stars\" representing the 7 classes Alice will take, and 4 \"bars\" to separate these classes into 5 groups, each group corresponding to a day of the week.\n",
    "\n",
    "There are C(11, 4) ways to distribute the classes between the days using the stars and bars method.\n",
    "\n",
    "Thus, the probability Alice has classes every day, Monday through Friday, is:\n",
    "\n",
    "P(classes every day) = C(11, 4) / C(30, 7)"
   ]
  },
  {
   "cell_type": "code",
   "execution_count": null,
   "id": "a9838d95",
   "metadata": {},
   "outputs": [],
   "source": []
  }
 ],
 "metadata": {
  "kernelspec": {
   "display_name": "Python 3 (ipykernel)",
   "language": "python",
   "name": "python3"
  },
  "language_info": {
   "codemirror_mode": {
    "name": "ipython",
    "version": 3
   },
   "file_extension": ".py",
   "mimetype": "text/x-python",
   "name": "python",
   "nbconvert_exporter": "python",
   "pygments_lexer": "ipython3",
   "version": "3.9.12"
  }
 },
 "nbformat": 4,
 "nbformat_minor": 5
}
