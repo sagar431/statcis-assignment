{
 "cells": [
  {
   "cell_type": "markdown",
   "id": "7b2275b0",
   "metadata": {},
   "source": [
    "1. A crime is committed by one of two suspects, A and B. Initially, there is equal evidence\n",
    "against both of them. In further investigation at the crime scene, it is found that the guilty\n",
    "party had a blood type found in 10% of the population. Suspect A does match this blood\n",
    "type, whereas the blood type of Suspect B is unknown. (a) Given this new information, what\n",
    "is the probability that A is the guilty party? (b) Given this new information, what is the\n",
    "probability that B’s blood type matches that found at the crime scene?"
   ]
  },
  {
   "cell_type": "markdown",
   "id": "59348494",
   "metadata": {},
   "source": [
    "# ans"
   ]
  },
  {
   "cell_type": "markdown",
   "id": "c8ef6d2a",
   "metadata": {},
   "source": [
    "(a) Let G_A be the event that suspect A is guilty, G_B be the event that suspect B is guilty, and T be the event that the blood type found at the crime scene matches the guilty party's blood type. We want to find P(G_A | T). \n",
    "\n",
    "Initially, there is equal evidence against both suspects, so:\n",
    "P(G_A) = P(G_B) = 0.5\n",
    "\n",
    "We know that suspect A matches the blood type found at the crime scene, so:\n",
    "P(T | G_A) = 1\n",
    "\n",
    "The blood type found at the crime scene is present in 10% of the population, so:\n",
    "P(T | G_B) = 0.1\n",
    "\n",
    "Now we need to find the probability of T:\n",
    "\n",
    "P(T) = P(T | G_A) * P(G_A) + P(T | G_B) * P(G_B)\n",
    "P(T) = 1 * 0.5 + 0.1 * 0.5\n",
    "P(T) = 0.5 + 0.05 = 0.55\n",
    "\n",
    "Using Bayes' theorem to find P(G_A | T):\n",
    "\n",
    "P(G_A | T) = P(T | G_A) * P(G_A) / P(T)\n",
    "P(G_A | T) = (1 * 0.5) / 0.55\n",
    "P(G_A | T) ≈ 0.9091\n",
    "\n",
    "Given this new information, the probability that suspect A is the guilty party is approximately 90.91%.\n",
    "\n",
    "(b) We want to find the probability that suspect B's blood type matches the blood type found at the crime scene, given that suspect B is guilty. In other words, we want to find P(T | G_B). We have already calculated this in part (a):\n",
    "\n",
    "P(T | G_B) = 0.1\n",
    "\n",
    "Given this new information, the probability that suspect B's blood type matches that found at the crime scene is 10%."
   ]
  },
  {
   "cell_type": "code",
   "execution_count": null,
   "id": "f96df002",
   "metadata": {},
   "outputs": [],
   "source": []
  }
 ],
 "metadata": {
  "kernelspec": {
   "display_name": "Python 3 (ipykernel)",
   "language": "python",
   "name": "python3"
  },
  "language_info": {
   "codemirror_mode": {
    "name": "ipython",
    "version": 3
   },
   "file_extension": ".py",
   "mimetype": "text/x-python",
   "name": "python",
   "nbconvert_exporter": "python",
   "pygments_lexer": "ipython3",
   "version": "3.9.12"
  }
 },
 "nbformat": 4,
 "nbformat_minor": 5
}
