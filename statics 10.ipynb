{
 "cells": [
  {
   "cell_type": "markdown",
   "id": "be891eb8",
   "metadata": {},
   "source": [
    "1. A chicken lays n eggs. Each egg independently does or doesn’t hatch, with probability p of\n",
    "hatching. For each egg that hatches, the chick does or doesn’t survive (independently of the\n",
    "other eggs), with probability s of survival. Let N ⇠ Bin(n, p) be the number of eggs which\n",
    "hatch, X be the number of chicks which survive, and Y be the number of chicks which hatch\n",
    "but don’t survive (so X + Y = N). Find the marginal PMF of X, and the joint PMF of X and Y .\n",
    "Are they independent?"
   ]
  },
  {
   "cell_type": "markdown",
   "id": "7f2b5a1a",
   "metadata": {},
   "source": [
    "Let's first find the joint PMF of X and Y.\n",
    "\n",
    "We know that N, the number of eggs that hatch, follows a binomial distribution with parameters n and p. The probability mass function (PMF) of N is given by:\n",
    "\n",
    "P(N = k) = C(n, k) * p^k * (1 - p)^(n - k), where k = 0, 1, ..., n\n",
    "\n",
    "Now, for a fixed value of k (number of hatched eggs), we have X chicks that survive and Y chicks that don't survive, with X + Y = k. The number of chicks that survive follows a binomial distribution with parameters k and s.\n",
    "\n",
    "P(X = x | N = k) = C(k, x) * s^x * (1 - s)^(k - x), where x = 0, 1, ..., k\n",
    "\n",
    "To find the joint PMF of X and Y, we multiply the conditional probability of X given N by the probability of N:\n",
    "\n",
    "P(X = x, Y = y) = P(X = x | N = x + y) * P(N = x + y)\n",
    "P(X = x, Y = y) = C(x + y, x) * s^x * (1 - s)^y * C(n, x + y) * p^(x + y) * (1 - p)^(n - x - y)\n",
    "\n",
    "Now, let's find the marginal PMF of X. To do this, we sum the joint PMF of X and Y over all possible values of Y:\n",
    "\n",
    "P(X = x) = Σ P(X = x, Y = y) for y = 0, 1, ..., n - x\n",
    "P(X = x) = Σ C(x + y, x) * s^x * (1 - s)^y * C(n, x + y) * p^(x + y) * (1 - p)^(n - x - y) for y = 0, 1, ..., n - x\n",
    "\n",
    "Next, we'll check if X and Y are independent. Two random variables are independent if their joint PMF is the product of their marginal PMFs:\n",
    "\n",
    "P(X = x, Y = y) = P(X = x) * P(Y = y)\n",
    "\n",
    "However, we can see that X and Y are not independent because their joint PMF depends on the sum x + y, which indicates a relationship between the two variables. In this case, the number of chicks that survive and those that don't survive both depend on the number of eggs that hatch, so they are not independent."
   ]
  },
  {
   "cell_type": "code",
   "execution_count": null,
   "id": "2fe4233e",
   "metadata": {},
   "outputs": [],
   "source": []
  }
 ],
 "metadata": {
  "kernelspec": {
   "display_name": "Python 3 (ipykernel)",
   "language": "python",
   "name": "python3"
  },
  "language_info": {
   "codemirror_mode": {
    "name": "ipython",
    "version": 3
   },
   "file_extension": ".py",
   "mimetype": "text/x-python",
   "name": "python",
   "nbconvert_exporter": "python",
   "pygments_lexer": "ipython3",
   "version": "3.9.12"
  }
 },
 "nbformat": 4,
 "nbformat_minor": 5
}
