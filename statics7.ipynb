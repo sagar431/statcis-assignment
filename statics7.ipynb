{
 "cells": [
  {
   "cell_type": "markdown",
   "id": "8ab36f9b",
   "metadata": {},
   "source": [
    "1. A spam filter is designed by looking at commonly occurring phrases in spam. Suppose that\n",
    "80% of email is spam. In 10% of the spam emails, the phrase “free money” is used, whereas\n",
    "this phrase is only used in 1% of non-spam emails. A new email has just arrived, which does\n",
    "mention “free money”. What is the probability that it is spam?"
   ]
  },
  {
   "cell_type": "markdown",
   "id": "4e71a0b6",
   "metadata": {},
   "source": [
    "# answer "
   ]
  },
  {
   "cell_type": "markdown",
   "id": "9376b83e",
   "metadata": {},
   "source": [
    "To calculate the probability that the email is spam given that it mentions \"free money,\" we can use Bayes' theorem. Let S be the event that an email is spam and F be the event that the email contains the phrase \"free money.\" We want to find P(S | F).\n",
    "\n",
    "We are given the following probabilities:\n",
    "P(S) = 0.8 (80% of emails are spam)\n",
    "P(F | S) = 0.1 (10% of spam emails contain \"free money\")\n",
    "P(F | Sᶜ) = 0.01 (1% of non-spam emails contain \"free money\")\n",
    "\n",
    "First, we need to find the probability of F:\n",
    "\n",
    "P(F) = P(F | S) * P(S) + P(F | Sᶜ) * P(Sᶜ)\n",
    "P(F) = 0.1 * 0.8 + 0.01 * 0.2\n",
    "P(F) = 0.08 + 0.002 = 0.082\n",
    "\n",
    "Now we can apply Bayes' theorem to find P(S | F):\n",
    "\n",
    "P(S | F) = P(F | S) * P(S) / P(F)\n",
    "P(S | F) = (0.1 * 0.8) / 0.082\n",
    "P(S | F) ≈ 0.9756\n",
    "\n",
    "So, given that the email mentions \"free money,\" there is approximately a 97.56% chance that it is spam."
   ]
  },
  {
   "cell_type": "code",
   "execution_count": null,
   "id": "79fa24b7",
   "metadata": {},
   "outputs": [],
   "source": []
  }
 ],
 "metadata": {
  "kernelspec": {
   "display_name": "Python 3 (ipykernel)",
   "language": "python",
   "name": "python3"
  },
  "language_info": {
   "codemirror_mode": {
    "name": "ipython",
    "version": 3
   },
   "file_extension": ".py",
   "mimetype": "text/x-python",
   "name": "python",
   "nbconvert_exporter": "python",
   "pygments_lexer": "ipython3",
   "version": "3.9.12"
  }
 },
 "nbformat": 4,
 "nbformat_minor": 5
}
