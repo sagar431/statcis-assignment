{
 "cells": [
  {
   "cell_type": "markdown",
   "id": "a3df7f84",
   "metadata": {},
   "source": [
    "1. Is it possible that an event is independent of itself? If so, when?\n",
    "2. Is it always true that if A and B are independent events, then Ac and Bc are independent\n",
    "events? Show that it is, or give a counterexample."
   ]
  },
  {
   "cell_type": "markdown",
   "id": "81a5eaed",
   "metadata": {},
   "source": [
    "answer"
   ]
  },
  {
   "cell_type": "markdown",
   "id": "7d6c44ed",
   "metadata": {},
   "source": [
    "1. Yes, an event is independent of itself if and only if the event has a probability of 0 or 1. Recall that two events A and B are considered independent if P(A ∩ B) = P(A) * P(B). In the case of an event being independent of itself, we have:\n",
    "\n",
    "A = B, so P(A ∩ A) = P(A) * P(A)\n",
    "P(A) = P(A) * P(A)\n",
    "\n",
    "If P(A) = 0 or P(A) = 1, then the above equation holds true, and the event is independent of itself.\n",
    "\n",
    "2. To show that if A and B are independent events, then Aᶜ and Bᶜ are independent events, we need to prove that P(Aᶜ ∩ Bᶜ) = P(Aᶜ) * P(Bᶜ).\n",
    "\n",
    "Recall that if A and B are independent, then P(A ∩ B) = P(A) * P(B).\n",
    "\n",
    "Let's first express P(Aᶜ ∩ Bᶜ) in terms of A and B using De Morgan's law:\n",
    "\n",
    "P(Aᶜ ∩ Bᶜ) = P((A ∪ B)ᶜ) = 1 - P(A ∪ B)\n",
    "\n",
    "Now we need to find P(A ∪ B). Using the property of probabilities for the union of two events:\n",
    "\n",
    "P(A ∪ B) = P(A) + P(B) - P(A ∩ B)\n",
    "\n",
    "Since A and B are independent events, we can substitute P(A ∩ B) with P(A) * P(B):\n",
    "\n",
    "P(A ∪ B) = P(A) + P(B) - P(A) * P(B)\n",
    "\n",
    "Now we can plug this into the equation for P(Aᶜ ∩ Bᶜ):\n",
    "\n",
    "P(Aᶜ ∩ Bᶜ) = 1 - P(A ∪ B) = 1 - [P(A) + P(B) - P(A) * P(B)]\n",
    "\n",
    "Now, let's find P(Aᶜ) and P(Bᶜ):\n",
    "\n",
    "P(Aᶜ) = 1 - P(A)\n",
    "P(Bᶜ) = 1 - P(B)\n",
    "\n",
    "Let's find the product P(Aᶜ) * P(Bᶜ):\n",
    "\n",
    "P(Aᶜ) * P(Bᶜ) = (1 - P(A)) * (1 - P(B))\n",
    "\n",
    "Expanding this expression, we get:\n",
    "\n",
    "P(Aᶜ) * P(Bᶜ) = 1 - P(A) - P(B) + P(A) * P(B)\n",
    "\n",
    "Comparing this with our expression for P(Aᶜ ∩ Bᶜ), we see that:\n",
    "\n",
    "P(Aᶜ ∩ Bᶜ) = P(Aᶜ) * P(Bᶜ)\n",
    "\n",
    "Therefore, if A and B are independent events, then Aᶜ and Bᶜ are independent events as well."
   ]
  },
  {
   "cell_type": "code",
   "execution_count": null,
   "id": "ed594d82",
   "metadata": {},
   "outputs": [],
   "source": []
  }
 ],
 "metadata": {
  "kernelspec": {
   "display_name": "Python 3 (ipykernel)",
   "language": "python",
   "name": "python3"
  },
  "language_info": {
   "codemirror_mode": {
    "name": "ipython",
    "version": 3
   },
   "file_extension": ".py",
   "mimetype": "text/x-python",
   "name": "python",
   "nbconvert_exporter": "python",
   "pygments_lexer": "ipython3",
   "version": "3.9.12"
  }
 },
 "nbformat": 4,
 "nbformat_minor": 5
}
