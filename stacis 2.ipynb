{
 "cells": [
  {
   "cell_type": "markdown",
   "id": "2f4f4904",
   "metadata": {},
   "source": [
    "1. Raindrops are falling at an average rate of 20 drops per square inch per minute. What would\n",
    "be a reasonable distribution to use for the number of raindrops hitting a particular region\n",
    "measuring 5 inches2 in t minutes? Why? Using your chosen distribution, compute the\n",
    "probability that the region has no rain drops in a given 3 second time interval. A reasonable\n",
    "choice of distribution is P\n",
    "2. Let X be a random day of the week, coded so that Monday is 1, Tuesday is 2, etc. (so X takes\n",
    "values 1, 2,..., 7, with equal probabilities). Let Y be the next day after X (again represented as\n",
    "an integer between 1 and 7). Do X and Y have the same distribution? What is P(X)"
   ]
  },
  {
   "cell_type": "markdown",
   "id": "e78a8b6b",
   "metadata": {},
   "source": [
    "# Answer"
   ]
  },
  {
   "cell_type": "markdown",
   "id": "9af7b524",
   "metadata": {},
   "source": [
    "1. A reasonable distribution to use for the number of raindrops hitting a particular region measuring 5 square inches in t minutes would be the Poisson distribution. The Poisson distribution models the number of events occurring in a fixed time interval, given that the events occur independently and at a constant rate. In this case, the rate is 20 drops per square inch per minute, and we can assume that the raindrops fall independently and uniformly across the region.\n",
    "\n",
    "Let X be the number of raindrops that hit the region in a given 3 second time interval. The rate of raindrops hitting the region in 3 seconds is:\n",
    "\n",
    "lambda = (20 drops/inch^2/minute) * (5 inch^2) * (3/60 minutes) = 5 drops\n",
    "\n",
    "Thus, X follows a Poisson distribution with parameter lambda = 5:\n",
    "\n",
    "P(X = k) = e^(-lambda) * (lambda^k / k!), for k = 0, 1, 2, ...\n",
    "\n",
    "To compute the probability that the region has no raindrops in a given 3 second time interval, we can substitute k=0 into the Poisson distribution:\n",
    "\n",
    "P(X = 0) = e^(-5) * (5^0 / 0!) ≈ 0.0067\n",
    "\n",
    "So the probability that the region has no raindrops in a given 3 second time interval is approximately 0.0067.\n",
    "\n",
    "2. X and Y do not have the same distribution. X has a discrete uniform distribution on the set {1, 2, ..., 7}, meaning that each value is equally likely to occur:\n",
    "\n",
    "P(X = i) = 1/7, for i = 1, 2, ..., 7.\n",
    "\n",
    "Y, on the other hand, is not uniformly distributed. The probability of Y being equal to i depends on the value of X:\n",
    "\n",
    "P(Y = i | X = j) = 1/6, for i ≠ j\n",
    "P(Y = j | X = j) = 0\n",
    "(where j, i ∈ {1, 2, ..., 7}, j ≠ i)\n",
    "\n",
    "To find P(X), we can sum the probabilities of X taking on each possible value:\n",
    "\n",
    "P(X) = Σ P(X = i) = 1/7 + 1/7 + ... + 1/7 = 1\n",
    "\n",
    "Since the distributions for X and Y are not the same, we can conclude that X and Y do not have the same distribution."
   ]
  },
  {
   "cell_type": "code",
   "execution_count": null,
   "id": "566fe24e",
   "metadata": {},
   "outputs": [],
   "source": []
  }
 ],
 "metadata": {
  "kernelspec": {
   "display_name": "Python 3 (ipykernel)",
   "language": "python",
   "name": "python3"
  },
  "language_info": {
   "codemirror_mode": {
    "name": "ipython",
    "version": 3
   },
   "file_extension": ".py",
   "mimetype": "text/x-python",
   "name": "python",
   "nbconvert_exporter": "python",
   "pygments_lexer": "ipython3",
   "version": "3.8.16"
  }
 },
 "nbformat": 4,
 "nbformat_minor": 5
}
