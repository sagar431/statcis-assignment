{
 "cells": [
  {
   "cell_type": "markdown",
   "id": "0363c08a",
   "metadata": {},
   "source": [
    "1. A group of n 2 people decide to play an exciting game of Rock-Paper Scissors. As you may\n",
    "recall, Rock smashes Scissors, Scissors cuts Paper, and Paper covers Rock (despite Bart\n",
    "Simpson saying “Good old rock, nothing beats that!”). Usually, this game is played with 2\n",
    "players, but it can be extended to more players as follows. If exactly 2 of the 3 choices\n",
    "appear when everyone reveals their choice, say a, b 2 {Rock, P aper, Scissors} where a beats\n",
    "b, the game is decisive: the players who chose a win, and the players who chose b lose.\n",
    "Otherwise, the game is indecisive and the players play again. For example, with 5 players, if\n",
    "one player picks Rock, two pick Scissors, and two pick Paper, the round is indecisive and they\n",
    "play again. But if 3 pick Rock and 2 pick Scissors, then the Rock players win and the Scissors\n",
    "players lose the game. 1 Assume that the n players independently and randomly choose\n",
    "between Rock, Scissors, and Paper, with equal probabilities. Let X, Y, Z be the number of\n",
    "players who pick Rock, Scissors, Paper, respectively in one game.\n",
    "(a) Find the joint PMF of X, Y, Z.\n",
    "(b) Find the probability that the game is decisive. Simplify your answer (it should not involve\n",
    "a sum of many terms).\n",
    "(c) What is the probability that the game is decisive for n = 5? What is the limiting probability\n",
    "that a game is decisive as n ! 1? Explain briefly why your answer makes sense."
   ]
  },
  {
   "cell_type": "markdown",
   "id": "cabf6ad9",
   "metadata": {},
   "source": [
    "# answer "
   ]
  },
  {
   "cell_type": "markdown",
   "id": "df6d93c3",
   "metadata": {},
   "source": [
    "(a) To find the joint probability mass function (PMF) of X, Y, Z, we first note that X, Y, Z must satisfy X + Y + Z = n, and X, Y, Z are non-negative integers. For any valid combination of X, Y, Z, there are C(n, X) ways to choose the players who pick Rock, C(n - X, Y) ways to choose the players who pick Scissors, and the rest pick Paper. Since each player has 3 choices with equal probabilities (1/3 for Rock, Scissors, and Paper), the joint PMF is:\n",
    "\n",
    "P(X = x, Y = y, Z = z) = (C(n, x) * C(n - x, y)) * (1/3)^n for x, y, z such that x + y + z = n and x, y, z are non-negative integers\n",
    "P(X = x, Y = y, Z = z) = 0, otherwise\n",
    "\n",
    "(b) The game is decisive if exactly two of the three choices appear. We can divide this into three cases:\n",
    "\n",
    "1. Rock and Scissors appear, but no Paper (X > 0, Y > 0, Z = 0)\n",
    "2. Rock and Paper appear, but no Scissors (X > 0, Y = 0, Z > 0)\n",
    "3. Scissors and Paper appear, but no Rock (X = 0, Y > 0, Z > 0)\n",
    "\n",
    "We will find the probability of each case and sum them to find the probability that the game is decisive. For case 1, we have:\n",
    "\n",
    "P(case 1) = sum(P(X = x, Y = y, Z = 0) for x > 0, y > 0, x + y = n)\n",
    "P(case 1) = sum(C(n, x) * C(n - x, y) * (1/3)^n for x > 0, y > 0, x + y = n)\n",
    "P(case 1) = (1/3)^n * sum(C(n, x) * C(n - x, n - x) for x = 1, ..., n-1)\n",
    "\n",
    "Since case 2 and case 3 are symmetric to case 1, their probabilities are the same:\n",
    "\n",
    "P(case 2) = P(case 1)\n",
    "P(case 3) = P(case 1)\n",
    "\n",
    "Now, the probability that the game is decisive is the sum of the probabilities of these three cases:\n",
    "\n",
    "P(decisive) = P(case 1) + P(case 2) + P(case 3) = 3 * P(case 1) = 3 * (1/3)^n * sum(C(n, x) * C(n - x, n - x) for x = 1, ..., n-1)\n",
    "\n",
    "(c) For n = 5, we can compute the probability that the game is decisive using the formula derived in part (b):\n",
    "\n",
    "P(decisive) = 3 * (1/3)^5 * sum(C(5, x) * C(5 - x, 5 - x) for x = 1, ..., 4)\n",
    "P(decisive) = 3 * (1/243) * (10 + 10 + 10 + 10) = 120/243 ≈ 0.4938\n",
    "\n",
    "As n → ∞, the probability that the game is decisive approaches 1. To understand why, consider the fact that as the number of players increases, it becomes more likely that at least one player will choose each of the three options (Rock, Scissors, Paper). As a"
   ]
  },
  {
   "cell_type": "code",
   "execution_count": null,
   "id": "9c9d1f11",
   "metadata": {},
   "outputs": [],
   "source": []
  }
 ],
 "metadata": {
  "kernelspec": {
   "display_name": "Python 3 (ipykernel)",
   "language": "python",
   "name": "python3"
  },
  "language_info": {
   "codemirror_mode": {
    "name": "ipython",
    "version": 3
   },
   "file_extension": ".py",
   "mimetype": "text/x-python",
   "name": "python",
   "nbconvert_exporter": "python",
   "pygments_lexer": "ipython3",
   "version": "3.9.12"
  }
 },
 "nbformat": 4,
 "nbformat_minor": 5
}
