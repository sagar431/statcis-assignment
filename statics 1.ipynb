{
 "cells": [
  {
   "cell_type": "markdown",
   "id": "a3fd792d",
   "metadata": {},
   "source": [
    "1. Harvard Law School courses often have assigned seating to facilitate the “Socratic method.”\n",
    "Suppose that there are 100 first year Harvard Law students, and each takes two courses:\n",
    "Torts and Contracts. Both are held in the same lecture hall (which has 100 seats), and the\n",
    "seating is uniformly random and independent for the two courses.\n",
    "(a) Find the probability that no one has the same seat for both courses (exactly; you should\n",
    "leave your answer as a sum).\n",
    "(b) Find a simple but accurate approximation to the probability that no one has the same\n",
    "seat for both courses.\n",
    "(c) Find a simple but accurate approximation to the probability that at least two students\n",
    "have the same seat for both courses.\n",
    "2. There are 100 passengers lined up to board an airplane with 100 seats (with each seat\n",
    "assigned to one of the passengers). The first passenger in line crazily decides to sit in a\n",
    "randomly chosen seat (with all seats equally likely). Each subsequent passenger takes his or\n",
    "her assigned seat if available, and otherwise sits in a random available seat. What is the\n",
    "probability that the last passenger in line gets to sit in his or her assigned seat?"
   ]
  },
  {
   "cell_type": "markdown",
   "id": "15b82ae7",
   "metadata": {},
   "source": [
    "\n",
    "\n",
    "1. (a) To find the probability that no one has the same seat for both courses, we can use the principle of inclusion-exclusion. Let A_i be the event that the ith student has the same seat in both courses. Then the probability we are interested in is:\n",
    "\n",
    "P(no one has the same seat) = 1 - P(at least one student has the same seat)\n",
    "                           = 1 - P(A_1 ∪ A_2 ∪ ... ∪ A_100)\n",
    "                           = 1 - ∑ P(A_i) + ∑∑ P(A_i ∩ A_j) - ∑∑∑ P(A_i ∩ A_j ∩ A_k) + ... + (-1)^k ∑∑...∑ P(A_i ∩ A_j ∩ ... ∩ A_k)\n",
    "\n",
    "Note that the sum goes up to k=50, since if k>50 then we would need at least 2k seats to avoid any overlap, which is impossible. Also note that P(A_i) = 1/100, since there is only one seat in the second course that matches the seat in the first course for each student.\n",
    "\n",
    "Using this formula, we can evaluate the probabilities as follows:\n",
    "\n",
    "P(A_i) = 1/100 for i=1,2,...,100\n",
    "P(A_i ∩ A_j) = (99/100) * (1/99) = 1/100 for i≠j\n",
    "P(A_i ∩ A_j ∩ A_k) = 0 for i,j,k distinct\n",
    "\n",
    "Therefore, the probability that no one has the same seat for both courses is:\n",
    "\n",
    "P(no one has the same seat) = 1 - 100*(1/100) + (100 choose 2)*(1/100) - 0 + ... + (-1)^50 * (100 choose 50) * 0\n",
    "\n",
    "This simplifies to:\n",
    "\n",
    "P(no one has the same seat) = 1/2\n",
    "\n",
    "(b) To find a simple but accurate approximation to the probability, we can use the fact that the probability that the first student has a different seat in the second course is 99/100. Assuming that the first student does have a different seat, the probability that the second student also has a different seat is 98/99, and so on. Therefore, the probability that no one has the same seat is approximately:\n",
    "\n",
    "P(no one has the same seat) ≈ (99/100) * (98/99) * ... * (1/2)\n",
    "                             = 1/2\n",
    "\n",
    "This is the same as the exact probability we found in part (a).\n",
    "\n",
    "(c) To find a simple but accurate approximation to the probability that at least two students have the same seat for both courses, we can use the complement rule. The probability that no two students have the same seat is 1/2, so the probability that at least two students have the same seat is approximately:\n",
    "\n",
    "P(at least two students have the same seat) ≈ 1 - 1/2\n",
    "                                          = 1/2\n",
    "\n",
    "\n",
    "2. We can solve this problem using conditional probability. Let A_i be the event that the ith passenger gets to sit in his or her assigned seat. We want to find P(A_100), the probability that the last passenger gets to sit in his or her assigned seat.\n",
    "\n",
    "If the first passenger sits in his or her assigned seat (seat 1), then the probability of each subsequent passenger getting his or her assigned seat is 1, so P(A_100 | A_1) = 1.\n",
    "\n",
    "If the first passenger sits in seat i (i≠1), then the probability that the second passenger gets his or her"
   ]
  },
  {
   "cell_type": "code",
   "execution_count": null,
   "id": "ea420da1",
   "metadata": {},
   "outputs": [],
   "source": []
  }
 ],
 "metadata": {
  "kernelspec": {
   "display_name": "Python 3 (ipykernel)",
   "language": "python",
   "name": "python3"
  },
  "language_info": {
   "codemirror_mode": {
    "name": "ipython",
    "version": 3
   },
   "file_extension": ".py",
   "mimetype": "text/x-python",
   "name": "python",
   "nbconvert_exporter": "python",
   "pygments_lexer": "ipython3",
   "version": "3.8.16"
  }
 },
 "nbformat": 4,
 "nbformat_minor": 5
}
