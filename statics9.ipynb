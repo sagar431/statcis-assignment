{
 "cells": [
  {
   "cell_type": "markdown",
   "id": "63868302",
   "metadata": {},
   "source": [
    "1. You are going to play 2 games of chess with an opponent whom you have never played\n",
    "against before (for the sake of this problem). Your opponent is equally likely to be a\n",
    "beginner, intermediate, or a master. Depending on\n",
    "(a) What is your probability of winning the first game?\n",
    "(b) Congratulations: you won the first game! Given this information, what is the probability\n",
    "that you will also win the second game\n",
    "(c) Explain the distinction between assuming that the outcomes of the games are\n",
    "independent and assuming that they are conditionally independent given the opponent’s\n",
    "skill level. Which of these assumptions seems more reasonable, and why?"
   ]
  },
  {
   "cell_type": "markdown",
   "id": "b30c2b4d",
   "metadata": {},
   "source": [
    "# Answer"
   ]
  },
  {
   "cell_type": "markdown",
   "id": "7d1af112",
   "metadata": {},
   "source": [
    "We are given the following probabilities:\n",
    "P(Win | Beginner) = 0.8\n",
    "P(Win | Intermediate) = 0.6\n",
    "P(Win | Master) = 0.4\n",
    "\n",
    "Since the opponent is equally likely to be a beginner, intermediate, or master, we have:\n",
    "P(Beginner) = P(Intermediate) = P(Master) = 1/3\n",
    "\n",
    "(a) To find the probability of winning the first game, we can use the law of total probability:\n",
    "P(Win) = P(Win | Beginner) * P(Beginner) + P(Win | Intermediate) * P(Intermediate) + P(Win | Master) * P(Master)\n",
    "P(Win) = 0.8 * (1/3) + 0.6 * (1/3) + 0.4 * (1/3)\n",
    "P(Win) = 0.6\n",
    "\n",
    "The probability of winning the first game is 0.6.\n",
    "\n",
    "(b) Given that you won the first game, we want to find the probability of winning the second game. We can use the conditional probability to solve this:\n",
    "\n",
    "P(Win2 | Win1) = P(Win2 and Win1) / P(Win1)\n",
    "\n",
    "We can assume the outcomes of the games are conditionally independent given the opponent's skill level. So, we have:\n",
    "\n",
    "P(Win2 and Win1) = P(Win1 | Beginner) * P(Win2 | Beginner) * P(Beginner) + P(Win1 | Intermediate) * P(Win2 | Intermediate) * P(Intermediate) + P(Win1 | Master) * P(Win2 | Master) * P(Master)\n",
    "P(Win2 and Win1) = (0.8 * 0.8 * 1/3) + (0.6 * 0.6 * 1/3) + (0.4 * 0.4 * 1/3)\n",
    "P(Win2 and Win1) = (0.64 * 1/3) + (0.36 * 1/3) + (0.16 * 1/3)\n",
    "P(Win2 and Win1) = 0.48\n",
    "\n",
    "Now we can find P(Win2 | Win1):\n",
    "\n",
    "P(Win2 | Win1) = P(Win2 and Win1) / P(Win1)\n",
    "P(Win2 | Win1) = 0.48 / 0.6\n",
    "P(Win2 | Win1) = 0.8\n",
    "\n",
    "Given that you won the first game, the probability of winning the second game is 0.8.\n",
    "\n",
    "(c) The distinction between assuming that the outcomes of the games are independent and assuming that they are conditionally independent given the opponent's skill level is important. If the outcomes are independent, it means that the result of one game does not affect the result of the other game in any way. However, if they are conditionally independent given the opponent's skill level, it means that the outcomes are independent when considering the skill level of the opponent.\n",
    "\n",
    "Assuming conditional independence given the opponent's skill level is more reasonable because the results of the games are likely to be correlated to the skill level of the opponent. If you win the first game, it might be an indication that the opponent is not very skilled, which would increase your chances of winning the second game."
   ]
  },
  {
   "cell_type": "code",
   "execution_count": null,
   "id": "81800733",
   "metadata": {},
   "outputs": [],
   "source": []
  }
 ],
 "metadata": {
  "kernelspec": {
   "display_name": "Python 3 (ipykernel)",
   "language": "python",
   "name": "python3"
  },
  "language_info": {
   "codemirror_mode": {
    "name": "ipython",
    "version": 3
   },
   "file_extension": ".py",
   "mimetype": "text/x-python",
   "name": "python",
   "nbconvert_exporter": "python",
   "pygments_lexer": "ipython3",
   "version": "3.9.12"
  }
 },
 "nbformat": 4,
 "nbformat_minor": 5
}
